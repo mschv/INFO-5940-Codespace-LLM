{
 "cells": [
  {
   "cell_type": "code",
   "execution_count": 2,
   "id": "94be9cde",
   "metadata": {},
   "outputs": [],
   "source": [
    "from langchain_openai import ChatOpenAI\n",
    "from os import environ"
   ]
  },
  {
   "cell_type": "code",
   "execution_count": null,
   "id": "bd6e43bc",
   "metadata": {},
   "outputs": [],
   "source": [
    "environ['OPENAI_API_KEY'] = \"\" \n",
    "environ['OPENAI_BASE_URL'] = 'https://api.ai.it.cornell.edu'\n",
    "\n",
    "llm = ChatOpenAI(\n",
    "    model=\"openai.gpt-4o\",\n",
    "    temperature=0.2,\n",
    ")"
   ]
  },
  {
   "cell_type": "markdown",
   "id": "0c4e8c10",
   "metadata": {},
   "source": [
    "<h2>Load Source Text</h2>"
   ]
  },
  {
   "cell_type": "code",
   "execution_count": 4,
   "id": "b74f74c7",
   "metadata": {},
   "outputs": [
    {
     "name": "stderr",
     "output_type": "stream",
     "text": [
      "Ignoring wrong pointing object 6 0 (offset 0)\n",
      "Ignoring wrong pointing object 8 0 (offset 0)\n",
      "Ignoring wrong pointing object 14 0 (offset 0)\n",
      "Ignoring wrong pointing object 16 0 (offset 0)\n",
      "Ignoring wrong pointing object 18 0 (offset 0)\n",
      "Ignoring wrong pointing object 21 0 (offset 0)\n",
      "Ignoring wrong pointing object 23 0 (offset 0)\n",
      "Ignoring wrong pointing object 25 0 (offset 0)\n",
      "Ignoring wrong pointing object 27 0 (offset 0)\n",
      "Ignoring wrong pointing object 30 0 (offset 0)\n",
      "Ignoring wrong pointing object 32 0 (offset 0)\n"
     ]
    }
   ],
   "source": [
    "from langchain_community.document_loaders import PyPDFLoader\n",
    "loader = PyPDFLoader(\"Resume Maria Chang.pdf\")\n",
    "documents = loader.load()"
   ]
  },
  {
   "cell_type": "code",
   "execution_count": 5,
   "id": "c4d6e543",
   "metadata": {},
   "outputs": [
    {
     "data": {
      "text/plain": [
       "{'producer': 'macOS Version 26.0 (Build 25A354) Quartz PDFContext',\n",
       " 'creator': 'PyPDF',\n",
       " 'creationdate': \"D:20250923015544Z00'00'\",\n",
       " 'moddate': \"D:20250923015544Z00'00'\",\n",
       " 'source': 'Resume Maria Chang.pdf',\n",
       " 'total_pages': 2,\n",
       " 'page': 0,\n",
       " 'page_label': '1'}"
      ]
     },
     "execution_count": 5,
     "metadata": {},
     "output_type": "execute_result"
    }
   ],
   "source": [
    "documents[0].metadata"
   ]
  },
  {
   "cell_type": "code",
   "execution_count": 6,
   "id": "8a00eaf9",
   "metadata": {},
   "outputs": [
    {
     "name": "stdout",
     "output_type": "stream",
     "text": [
      "Maria Susana Chang Vegas Ithaca, NY 14850 | (607) 379-3864 | mc2995@cornell.edu | LinkedIn | Portfolio \n",
      "EDUCATION Cornell University, Ithaca, NY  May 2026 Master of Professional Studies in Information Science  Relevant Coursework: HCI design, Applied LLM, Innovation Management  Politecnico di Milano, Milan, Italy Sep 2025 Full-time International Master of Business Administration Relevant Coursework: Technology Management, Strategy, Project Management, Market Research  Universidad de Piura, Piura, Peru Dec 2019 Bachelor of Science in Industrial & Systems Engineering  SKILLS • Computer: SQL, Python, HTML/CSS, BigQuery, Amplitude, Figma, Miro, Jira, Looker Studio, Tableau, PowerBi, Wix, Framer, VTEX, Azure, Visual Studio Code, Github • Languages: Spanish and Italian  WORK EXPERIENCE IT Strategy Consultant Apr 2024-Jan 2025 Brachitek, Milan, Italy • Developed a responsive, user-friendly website, enhancing the company's online presence and credibility for B2B IT hardware/software solutions. • Co-wrote investment pitch and proposed strategic initiatives for expansion into new consumer markets. • Created digital business cards based on Bootstrap for wearable devices, improving client information exchange and networking capabilities. • Managed stakeholder input and requirements while delivering scalable web solutions. Product Manager Intern May 2024-Sep 2024 Jobrapido, Milan, Italy • Designed and tested ML models for keyword extraction from job postings, achieving 80% accuracy through advanced prompt engineering techniques. • Executed a comprehensive A/B testing framework using Looker Studio dashboards for KPI tracking and data-driven product decisions. • Conducted user research and redesigned the user-facing Search Results page, establishing design system components through journey mapping and test segmentation to improve user experience at scale. • Applied experimental design principles to optimize NLP algorithms for enhanced job matching systems. Associate Product Manager Jan 2022-Sep 2023 Rappi, Lima, Peru • Developed and optimized Rappi Ads advertising products, including in-app placements and automated billing flows, reducing refunds and improving monetization. • Led CRM digitalization projects, managing the complete product lifecycle from design to adoption, achieving a 92% usage rate, and training 50+ cross-functional team members. • Made data-driven decisions using SQL and Power BI, conducted A/B testing for user-facing advertising products, and developed PRDs aligned with strategic objectives, reaching 75% average goal achievement. • Partnered with engineering, design, and business teams through cross-functional collaboration to deliver scalable product solutions for diverse user workflows. Digital Product Analyst Sep 2020-Dec 2021 Superfood Holding, Lima, Peru • Managed digital products in e-commerce, implementing two-step payment authentication to reduce refunds, optimizing checkout to improve conversion, and developing digital stores for rapid expansion. • Collaborated with cross-functional teams (engineering, UX/UI, commercial, marketing) to define user stories, prioritize initiatives, and align stakeholders, participating in SCRUM ceremonies and leading grooming and planning\n"
     ]
    }
   ],
   "source": [
    "print(documents[0].page_content)"
   ]
  },
  {
   "cell_type": "markdown",
   "id": "0a507b0a",
   "metadata": {},
   "source": [
    "<h2>Split the document</h2>"
   ]
  },
  {
   "cell_type": "code",
   "execution_count": 7,
   "id": "62f76d0c",
   "metadata": {},
   "outputs": [],
   "source": [
    "from langchain_text_splitters import RecursiveCharacterTextSplitter"
   ]
  },
  {
   "cell_type": "code",
   "execution_count": 8,
   "id": "eee0a036",
   "metadata": {},
   "outputs": [],
   "source": [
    "chunk_size = 500\n",
    "chunk_overlap = 50"
   ]
  },
  {
   "cell_type": "code",
   "execution_count": 9,
   "id": "ab52bebd",
   "metadata": {},
   "outputs": [],
   "source": [
    "text_splitter = RecursiveCharacterTextSplitter(\n",
    "    chunk_size = chunk_size,\n",
    "    chunk_overlap = chunk_overlap\n",
    ")"
   ]
  },
  {
   "cell_type": "code",
   "execution_count": 10,
   "id": "fc3f27a9",
   "metadata": {},
   "outputs": [],
   "source": [
    "chunks = text_splitter.split_documents(documents)"
   ]
  },
  {
   "cell_type": "code",
   "execution_count": 11,
   "id": "5808b69a",
   "metadata": {},
   "outputs": [
    {
     "name": "stdout",
     "output_type": "stream",
     "text": [
      "Maria Susana Chang Vegas Ithaca, NY 14850 | (607) 379-3864 | mc2995@cornell.edu | LinkedIn | Portfolio\n",
      "-----\n",
      "EDUCATION Cornell University, Ithaca, NY  May 2026 Master of Professional Studies in Information Science  Relevant Coursework: HCI design, Applied LLM, Innovation Management  Politecnico di Milano, Milan, Italy Sep 2025 Full-time International Master of Business Administration Relevant Coursework: Technology Management, Strategy, Project Management, Market Research  Universidad de Piura, Piura, Peru Dec 2019 Bachelor of Science in Industrial & Systems Engineering  SKILLS • Computer: SQL,\n",
      "-----\n",
      "& Systems Engineering  SKILLS • Computer: SQL, Python, HTML/CSS, BigQuery, Amplitude, Figma, Miro, Jira, Looker Studio, Tableau, PowerBi, Wix, Framer, VTEX, Azure, Visual Studio Code, Github • Languages: Spanish and Italian  WORK EXPERIENCE IT Strategy Consultant Apr 2024-Jan 2025 Brachitek, Milan, Italy • Developed a responsive, user-friendly website, enhancing the company's online presence and credibility for B2B IT hardware/software solutions. • Co-wrote investment pitch and proposed\n",
      "-----\n",
      "• Co-wrote investment pitch and proposed strategic initiatives for expansion into new consumer markets. • Created digital business cards based on Bootstrap for wearable devices, improving client information exchange and networking capabilities. • Managed stakeholder input and requirements while delivering scalable web solutions. Product Manager Intern May 2024-Sep 2024 Jobrapido, Milan, Italy • Designed and tested ML models for keyword extraction from job postings, achieving 80% accuracy\n",
      "-----\n",
      "from job postings, achieving 80% accuracy through advanced prompt engineering techniques. • Executed a comprehensive A/B testing framework using Looker Studio dashboards for KPI tracking and data-driven product decisions. • Conducted user research and redesigned the user-facing Search Results page, establishing design system components through journey mapping and test segmentation to improve user experience at scale. • Applied experimental design principles to optimize NLP algorithms for\n",
      "-----\n",
      "design principles to optimize NLP algorithms for enhanced job matching systems. Associate Product Manager Jan 2022-Sep 2023 Rappi, Lima, Peru • Developed and optimized Rappi Ads advertising products, including in-app placements and automated billing flows, reducing refunds and improving monetization. • Led CRM digitalization projects, managing the complete product lifecycle from design to adoption, achieving a 92% usage rate, and training 50+ cross-functional team members. • Made data-driven\n",
      "-----\n",
      "cross-functional team members. • Made data-driven decisions using SQL and Power BI, conducted A/B testing for user-facing advertising products, and developed PRDs aligned with strategic objectives, reaching 75% average goal achievement. • Partnered with engineering, design, and business teams through cross-functional collaboration to deliver scalable product solutions for diverse user workflows. Digital Product Analyst Sep 2020-Dec 2021 Superfood Holding, Lima, Peru • Managed digital products\n",
      "-----\n",
      "Holding, Lima, Peru • Managed digital products in e-commerce, implementing two-step payment authentication to reduce refunds, optimizing checkout to improve conversion, and developing digital stores for rapid expansion. • Collaborated with cross-functional teams (engineering, UX/UI, commercial, marketing) to define user stories, prioritize initiatives, and align stakeholders, participating in SCRUM ceremonies and leading grooming and planning\n",
      "-----\n",
      "sessions. • Analyzed data and optimized product performance using Power BI, Tableau, and user surveys, leading to a 14% increase in customer satisfaction. • Automated and improved e-commerce processes by mapping operations, configuring VTEX settings for better user experience, and implementing QA in production to ensure new feature functionality.  OTHER EXPERIENCE Graduate Teaching Research Specialist Aug 2025- Present Bowers School of Computer and Information Science, Cornell University,\n",
      "-----\n",
      "and Information Science, Cornell University, Ithaca, NY • Facilitated interactive learning sessions and technical discussions for INFO 3450 - Human Computer Interaction Design, covering user research methodologies, interaction design principles, and usability evaluation techniques. • Provided technical mentorship to 15 students on HCI design systems projects, conducting weekly office hours to guide students through user persona development, wireframing, prototyping workflows, and usability\n",
      "-----\n",
      "wireframing, prototyping workflows, and usability testing implementation. • Evaluated and critiqued group design projects using established HCI heuristics and design principles, delivering structured feedback on information architecture, user interface design patterns, accessibility compliance, and user experience research methodologies. Ad Honorem Researcher Jan 2025-Aug 2025 Industrial & Systems Engineering Department, Universidad de Piura, Piura, Peru • Developed machine learning algorithms\n",
      "-----\n",
      "Peru • Developed machine learning algorithms for early physical frailty diagnosis using self-collected depth camera data from real participants, to enable healthcare professionals to detect and address mobility issues before progression. • Conducted systematic literature reviews for a research project funded by Concytec-Prociencia. • Co-supervised undergraduate thesis research and contributed to high-impact journal manuscript preparation.  PROJECTS VibeBook – Visual Style Discovery Platform\n",
      "-----\n",
      "VibeBook – Visual Style Discovery Platform 2025 Figma Hackathon Created and designed a product using Figma Make that aimed to help creators find visual style, messaging, and hashtags for cohesive brand presence, implementing design-to-code workflows through prompt-driven design directives.  Earli – AI Powered Feddback Platform 2025 Lovable-Claude-Supabase Hackathon 24-hour hackathon. Designed and developed an AI-powered SaaS platform for product feedback analysis  7 Wonders Interactive\n",
      "-----\n",
      "product feedback analysis  7 Wonders Interactive Experience 2025 Wix Studio Contest Honorable mention. Created a gamified landing page with interactive user flows and reward animation.   CERTIFICATIONS DataCamp – Python Data fundamentals  Jan 2025 DataCamp – Python Programming fundamentals  Dec 2024 Product School – Artificial Intelligence Micro-Certification  Nov 2024 Product School – Product Strategy Micro-Certification  Nov 2024 freeCodeCamp – Responsive Web Design  Jun 2024 DataCamp –\n",
      "-----\n",
      "– Responsive Web Design  Jun 2024 DataCamp – Intermediate Python  Jul 2022 University of Virginia (Coursera) – Digital Product Management: Modern Fundamentals Mar 2021\n",
      "-----\n"
     ]
    }
   ],
   "source": [
    "for chunk in chunks:\n",
    "    print(chunk.page_content)\n",
    "    print(\"-----\")"
   ]
  },
  {
   "cell_type": "markdown",
   "id": "72418f0f",
   "metadata": {},
   "source": [
    "## Index chunks into a vector db (ChromaDB)"
   ]
  },
  {
   "cell_type": "code",
   "execution_count": 12,
   "id": "508c96ab",
   "metadata": {},
   "outputs": [],
   "source": [
    "from langchain_openai import OpenAIEmbeddings\n",
    "from langchain_chroma import Chroma"
   ]
  },
  {
   "cell_type": "code",
   "execution_count": 13,
   "id": "12c33ccb",
   "metadata": {},
   "outputs": [],
   "source": [
    "vectorstore = Chroma.from_documents(documents=chunks, embedding=OpenAIEmbeddings(model=\"openai.text-embedding-3-large\"))"
   ]
  },
  {
   "cell_type": "markdown",
   "id": "ca522b8b",
   "metadata": {},
   "source": [
    "## Test Similarity Search"
   ]
  },
  {
   "cell_type": "code",
   "execution_count": 14,
   "id": "3fc7c9c2",
   "metadata": {},
   "outputs": [
    {
     "data": {
      "text/plain": [
       "[Document(id='24146878-8454-4762-8e0d-a3bfcea50987', metadata={'page': 0, 'producer': 'macOS Version 26.0 (Build 25A354) Quartz PDFContext', 'total_pages': 2, 'creator': 'PyPDF', 'moddate': \"D:20250923015544Z00'00'\", 'creationdate': \"D:20250923015544Z00'00'\", 'source': 'Resume Maria Chang.pdf', 'page_label': '1'}, page_content='design principles to optimize NLP algorithms for enhanced job matching systems. Associate Product Manager Jan 2022-Sep 2023 Rappi, Lima, Peru • Developed and optimized Rappi Ads advertising products, including in-app placements and automated billing flows, reducing refunds and improving monetization. • Led CRM digitalization projects, managing the complete product lifecycle from design to adoption, achieving a 92% usage rate, and training 50+ cross-functional team members. • Made data-driven'),\n",
       " Document(id='c8bb5084-4f63-4371-a946-c7a64645b510', metadata={'page_label': '1', 'total_pages': 2, 'page': 0, 'source': 'Resume Maria Chang.pdf', 'moddate': \"D:20250923015544Z00'00'\", 'creationdate': \"D:20250923015544Z00'00'\", 'creator': 'PyPDF', 'producer': 'macOS Version 26.0 (Build 25A354) Quartz PDFContext'}, page_content='cross-functional team members. • Made data-driven decisions using SQL and Power BI, conducted A/B testing for user-facing advertising products, and developed PRDs aligned with strategic objectives, reaching 75% average goal achievement. • Partnered with engineering, design, and business teams through cross-functional collaboration to deliver scalable product solutions for diverse user workflows. Digital Product Analyst Sep 2020-Dec 2021 Superfood Holding, Lima, Peru • Managed digital products'),\n",
       " Document(id='6cd46e79-986a-41be-a660-e7d76c82acd5', metadata={'moddate': \"D:20250923015544Z00'00'\", 'total_pages': 2, 'creator': 'PyPDF', 'page': 0, 'creationdate': \"D:20250923015544Z00'00'\", 'source': 'Resume Maria Chang.pdf', 'producer': 'macOS Version 26.0 (Build 25A354) Quartz PDFContext', 'page_label': '1'}, page_content='• Co-wrote investment pitch and proposed strategic initiatives for expansion into new consumer markets. • Created digital business cards based on Bootstrap for wearable devices, improving client information exchange and networking capabilities. • Managed stakeholder input and requirements while delivering scalable web solutions. Product Manager Intern May 2024-Sep 2024 Jobrapido, Milan, Italy • Designed and tested ML models for keyword extraction from job postings, achieving 80% accuracy'),\n",
       " Document(id='809acf43-798e-4611-9322-af089de2db39', metadata={'source': 'Resume Maria Chang.pdf', 'page': 0, 'total_pages': 2, 'creationdate': \"D:20250923015544Z00'00'\", 'page_label': '1', 'producer': 'macOS Version 26.0 (Build 25A354) Quartz PDFContext', 'creator': 'PyPDF', 'moddate': \"D:20250923015544Z00'00'\"}, page_content='Holding, Lima, Peru • Managed digital products in e-commerce, implementing two-step payment authentication to reduce refunds, optimizing checkout to improve conversion, and developing digital stores for rapid expansion. • Collaborated with cross-functional teams (engineering, UX/UI, commercial, marketing) to define user stories, prioritize initiatives, and align stakeholders, participating in SCRUM ceremonies and leading grooming and planning')]"
      ]
     },
     "execution_count": 14,
     "metadata": {},
     "output_type": "execute_result"
    }
   ],
   "source": [
    "vectorstore.similarity_search(\"product manager advice\")"
   ]
  },
  {
   "cell_type": "code",
   "execution_count": 15,
   "id": "e7d25bca",
   "metadata": {},
   "outputs": [
    {
     "data": {
      "text/plain": [
       "[(Document(id='24146878-8454-4762-8e0d-a3bfcea50987', metadata={'page_label': '1', 'source': 'Resume Maria Chang.pdf', 'total_pages': 2, 'moddate': \"D:20250923015544Z00'00'\", 'creationdate': \"D:20250923015544Z00'00'\", 'creator': 'PyPDF', 'producer': 'macOS Version 26.0 (Build 25A354) Quartz PDFContext', 'page': 0}, page_content='design principles to optimize NLP algorithms for enhanced job matching systems. Associate Product Manager Jan 2022-Sep 2023 Rappi, Lima, Peru • Developed and optimized Rappi Ads advertising products, including in-app placements and automated billing flows, reducing refunds and improving monetization. • Led CRM digitalization projects, managing the complete product lifecycle from design to adoption, achieving a 92% usage rate, and training 50+ cross-functional team members. • Made data-driven'),\n",
       "  1.0092642307281494),\n",
       " (Document(id='c8bb5084-4f63-4371-a946-c7a64645b510', metadata={'page': 0, 'creator': 'PyPDF', 'page_label': '1', 'moddate': \"D:20250923015544Z00'00'\", 'producer': 'macOS Version 26.0 (Build 25A354) Quartz PDFContext', 'total_pages': 2, 'creationdate': \"D:20250923015544Z00'00'\", 'source': 'Resume Maria Chang.pdf'}, page_content='cross-functional team members. • Made data-driven decisions using SQL and Power BI, conducted A/B testing for user-facing advertising products, and developed PRDs aligned with strategic objectives, reaching 75% average goal achievement. • Partnered with engineering, design, and business teams through cross-functional collaboration to deliver scalable product solutions for diverse user workflows. Digital Product Analyst Sep 2020-Dec 2021 Superfood Holding, Lima, Peru • Managed digital products'),\n",
       "  1.158835530281067),\n",
       " (Document(id='6cd46e79-986a-41be-a660-e7d76c82acd5', metadata={'page_label': '1', 'moddate': \"D:20250923015544Z00'00'\", 'producer': 'macOS Version 26.0 (Build 25A354) Quartz PDFContext', 'page': 0, 'creationdate': \"D:20250923015544Z00'00'\", 'total_pages': 2, 'source': 'Resume Maria Chang.pdf', 'creator': 'PyPDF'}, page_content='• Co-wrote investment pitch and proposed strategic initiatives for expansion into new consumer markets. • Created digital business cards based on Bootstrap for wearable devices, improving client information exchange and networking capabilities. • Managed stakeholder input and requirements while delivering scalable web solutions. Product Manager Intern May 2024-Sep 2024 Jobrapido, Milan, Italy • Designed and tested ML models for keyword extraction from job postings, achieving 80% accuracy'),\n",
       "  1.161460518836975),\n",
       " (Document(id='809acf43-798e-4611-9322-af089de2db39', metadata={'producer': 'macOS Version 26.0 (Build 25A354) Quartz PDFContext', 'creator': 'PyPDF', 'creationdate': \"D:20250923015544Z00'00'\", 'page_label': '1', 'moddate': \"D:20250923015544Z00'00'\", 'total_pages': 2, 'page': 0, 'source': 'Resume Maria Chang.pdf'}, page_content='Holding, Lima, Peru • Managed digital products in e-commerce, implementing two-step payment authentication to reduce refunds, optimizing checkout to improve conversion, and developing digital stores for rapid expansion. • Collaborated with cross-functional teams (engineering, UX/UI, commercial, marketing) to define user stories, prioritize initiatives, and align stakeholders, participating in SCRUM ceremonies and leading grooming and planning'),\n",
       "  1.2765001058578491)]"
      ]
     },
     "execution_count": 15,
     "metadata": {},
     "output_type": "execute_result"
    }
   ],
   "source": [
    "vectorstore.similarity_search_with_score(\"product manager advice\")"
   ]
  },
  {
   "cell_type": "markdown",
   "id": "6e207ab1",
   "metadata": {},
   "source": [
    "## Setup retrieval"
   ]
  },
  {
   "cell_type": "code",
   "execution_count": 16,
   "id": "3133af3d",
   "metadata": {},
   "outputs": [],
   "source": [
    "retriever = vectorstore.as_retriever(search_type=\"similarity\", search_kwargs={\"k\": 5})"
   ]
  },
  {
   "cell_type": "code",
   "execution_count": 17,
   "id": "70e7bd2a",
   "metadata": {},
   "outputs": [],
   "source": [
    "def format_docs(docs):\n",
    "    return \"\\n\\n\".join(doc.page_content for doc in docs)"
   ]
  },
  {
   "cell_type": "code",
   "execution_count": 18,
   "id": "8edf0fa4",
   "metadata": {},
   "outputs": [
    {
     "data": {
      "text/plain": [
       "'design principles to optimize NLP algorithms for enhanced job matching systems. Associate Product Manager Jan 2022-Sep 2023 Rappi, Lima, Peru • Developed and optimized Rappi Ads advertising products, including in-app placements and automated billing flows, reducing refunds and improving monetization. • Led CRM digitalization projects, managing the complete product lifecycle from design to adoption, achieving a 92% usage rate, and training 50+ cross-functional team members. • Made data-driven\\n\\n• Co-wrote investment pitch and proposed strategic initiatives for expansion into new consumer markets. • Created digital business cards based on Bootstrap for wearable devices, improving client information exchange and networking capabilities. • Managed stakeholder input and requirements while delivering scalable web solutions. Product Manager Intern May 2024-Sep 2024 Jobrapido, Milan, Italy • Designed and tested ML models for keyword extraction from job postings, achieving 80% accuracy\\n\\ncross-functional team members. • Made data-driven decisions using SQL and Power BI, conducted A/B testing for user-facing advertising products, and developed PRDs aligned with strategic objectives, reaching 75% average goal achievement. • Partnered with engineering, design, and business teams through cross-functional collaboration to deliver scalable product solutions for diverse user workflows. Digital Product Analyst Sep 2020-Dec 2021 Superfood Holding, Lima, Peru • Managed digital products\\n\\nHolding, Lima, Peru • Managed digital products in e-commerce, implementing two-step payment authentication to reduce refunds, optimizing checkout to improve conversion, and developing digital stores for rapid expansion. • Collaborated with cross-functional teams (engineering, UX/UI, commercial, marketing) to define user stories, prioritize initiatives, and align stakeholders, participating in SCRUM ceremonies and leading grooming and planning\\n\\nproduct feedback analysis  7 Wonders Interactive Experience 2025 Wix Studio Contest Honorable mention. Created a gamified landing page with interactive user flows and reward animation.   CERTIFICATIONS DataCamp – Python Data fundamentals  Jan 2025 DataCamp – Python Programming fundamentals  Dec 2024 Product School – Artificial Intelligence Micro-Certification  Nov 2024 Product School – Product Strategy Micro-Certification  Nov 2024 freeCodeCamp – Responsive Web Design  Jun 2024 DataCamp –'"
      ]
     },
     "execution_count": 18,
     "metadata": {},
     "output_type": "execute_result"
    }
   ],
   "source": [
    "format_docs(retriever.invoke(\"product manager experience\"))"
   ]
  },
  {
   "cell_type": "code",
   "execution_count": 19,
   "id": "dca21156",
   "metadata": {},
   "outputs": [],
   "source": [
    "from langchain_core.prompts import PromptTemplate\n",
    "\n",
    "template = \"\"\"\n",
    "    You are an assistant for question-answering tasks. Use the following pieces of retrieved context to answer the question. \n",
    "    If you don't know the answer, just say that you don't know. Use three sentences maximum and keep the answer concise.\n",
    "    \n",
    "    Question: {question} \n",
    "    \n",
    "    Context: {context} \n",
    "    \n",
    "    Answer:\n",
    "\"\"\"\n",
    "prompt = PromptTemplate.from_template(template)"
   ]
  },
  {
   "cell_type": "markdown",
   "id": "e4497be1",
   "metadata": {},
   "source": [
    "## Alternatives: RAG Workflow without LangGraph"
   ]
  },
  {
   "cell_type": "code",
   "execution_count": 20,
   "id": "bb75cd80",
   "metadata": {},
   "outputs": [
    {
     "name": "stdout",
     "output_type": "stream",
     "text": [
      "Answer:\n",
      " Based on your experience, you have a solid foundation in product management with a focus on digital products, data-driven decision-making, and cross-functional collaboration. Here’s a breakdown of your product management experience:\n",
      "\n",
      "### Key Strengths:\n",
      "1. **Product Development and Optimization**:\n",
      "   - At Rappi, you developed and optimized advertising products, including in-app placements and automated billing flows, which improved monetization and reduced refunds.\n",
      "   - At Superfood Holding, you managed digital products and delivered scalable web solutions.\n",
      "\n",
      "2. **Data-Driven Decision Making**:\n",
      "   - Proficient in SQL and Power BI, you conducted A/B testing and used data insights to inform product decisions.\n",
      "   - You achieved a 75% average goal achievement rate by aligning PRDs with strategic objectives.\n",
      "\n",
      "3. **Cross-Functional Collaboration**:\n",
      "   - Partnered with engineering, design, and business teams to deliver scalable solutions for diverse workflows.\n",
      "   - Trained 50+ cross-functional team members to ensure adoption of CRM digitalization projects.\n",
      "\n",
      "4. **Technical Skills and Innovation**:\n",
      "   - Designed and tested ML models for keyword extraction during your internship at Jobrapido, achieving 80% accuracy.\n",
      "   - Created digital business cards using Bootstrap for wearable devices, enhancing networking capabilities.\n",
      "\n",
      "5. **Strategic Thinking**:\n",
      "   - Co-wrote investment pitches and proposed strategic initiatives for market expansion.\n",
      "\n",
      "### Recommendations to Strengthen Your Product Management Career:\n",
      "1. **Highlight Your Achievements**:\n",
      "   - Quantify your impact further (e.g., revenue growth from Rappi Ads optimization, user engagement metrics for digital products).\n",
      "   - Showcase your ability to deliver results through data-driven strategies and technical expertise.\n",
      "\n",
      "2. **Expand Technical Knowledge**:\n",
      "   - Build on your experience with ML models and SQL by deepening your understanding of AI/ML applications in product management.\n",
      "   - Consider certifications in advanced analytics tools or product management frameworks (e.g., Pragmatic Institute, AIPMM).\n",
      "\n",
      "3. **Focus on Leadership Development**:\n",
      "   - Highlight your experience training cross-functional teams and managing stakeholder input. Seek opportunities to lead larger teams or mentor junior product managers.\n",
      "\n",
      "4. **Explore Job Matching Systems**:\n",
      "   - Your internship at Jobrapido and interest in NLP algorithms for job matching systems could position you as a specialist in this niche. Consider roles in companies focusing on HR tech or AI-driven recruitment platforms.\n",
      "\n",
      "5. **Build a Portfolio**:\n",
      "   - Create a portfolio showcasing your projects, such as Rappi Ads optimization, CRM digitalization, and ML model development. This will help demonstrate your expertise to potential employers.\n",
      "\n",
      "### Next Steps:\n",
      "- **Target Roles**: Look for Associate Product Manager or Product Manager roles in tech companies, particularly those focusing on AI, data analytics, or HR tech.\n",
      "- **Networking**: Leverage your experience with digital business cards and networking to connect with professionals in your target industry.\n",
      "- **Skill Development**: Pursue certifications or courses in advanced product management, AI/ML, or data analytics to further differentiate yourself.\n",
      "\n",
      "Your experience demonstrates strong technical skills, strategic thinking, and the ability to deliver impactful solutions. With focused efforts on leadership and specialization, you are well-positioned to advance in your product management career. \n",
      "\n",
      "Sources:\n",
      "[1] Resume Maria Chang.pdf\n",
      "[2] Resume Maria Chang.pdf\n",
      "[3] Resume Maria Chang.pdf\n",
      "[4] Resume Maria Chang.pdf\n",
      "[5] Resume Maria Chang.pdf\n"
     ]
    }
   ],
   "source": [
    "# --- Alternative: Manual RAG without LangGraph ---\n",
    "# Minimal workflow: retrieve top-k chunks, build a compact prompt, call the LLM, and show sources.\n",
    "\n",
    "from langchain_chroma import Chroma\n",
    "from langchain_core.messages import SystemMessage, HumanMessage\n",
    "from langchain_openai import OpenAIEmbeddings\n",
    "\n",
    "vectorstore = Chroma.from_documents(documents=chunks, embedding=OpenAIEmbeddings(model=\"openai.text-embedding-3-large\"))\n",
    "\n",
    "def format_docs(docs):\n",
    "    return \"\\n\\n---\\n\\n\".join(d.page_content for d in docs)\n",
    "\n",
    "question = \"product management experience\" \n",
    "k = 5\n",
    "\n",
    "# 1) Retrieve\n",
    "docs = vectorstore.similarity_search(question, k=5)\n",
    "\n",
    "# 2) Build a concise instruction with the retrieved context\n",
    "context = format_docs(docs)\n",
    "system_instructions = (\n",
    "    \"You are an experienced career advisor. Your role is to provide personalized career guidance based on the documents provided to you.\\n\"\n",
    "    \"Use the provided context and analyze the information to provide actionable advice to help the person achieve their objectives. Focus on being specific, practical, and encouraging in your recommendations\\n\"\n",
    "    \"Base your advice solely on the information provided in the documents. If important information is missing, acknowledge this and work with what you have or ask clarifying questions.\\n\"\n",
    "    \"Keep your advice concise and focused. Prioritize the most important insights rather than being exhaustive. Aim for clarity and impact over comprehensiveness.\\n\"\n",
    "    f\"Context:\\n{context}\"\n",
    "            )\n",
    "\n",
    "# 3) Ask the model\n",
    "response = llm.invoke([\n",
    "    SystemMessage(content=system_instructions),\n",
    "    HumanMessage(content=question),\n",
    "])\n",
    "\n",
    "# 4) Display answer + sources\n",
    "print(\"Answer:\\n\", response.content, \"\\n\")\n",
    "print(\"Sources:\")\n",
    "for i, d in enumerate(docs, 1):\n",
    "    src = d.metadata.get(\"source\", \"(no source)\")\n",
    "    print(f\"[{i}] {src}\")\n"
   ]
  }
 ],
 "metadata": {
  "kernelspec": {
   "display_name": ".venv",
   "language": "python",
   "name": "python3"
  },
  "language_info": {
   "codemirror_mode": {
    "name": "ipython",
    "version": 3
   },
   "file_extension": ".py",
   "mimetype": "text/x-python",
   "name": "python",
   "nbconvert_exporter": "python",
   "pygments_lexer": "ipython3",
   "version": "3.11.13"
  }
 },
 "nbformat": 4,
 "nbformat_minor": 5
}
