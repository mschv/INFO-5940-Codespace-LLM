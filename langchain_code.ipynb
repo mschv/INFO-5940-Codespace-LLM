{
 "cells": [
  {
   "cell_type": "code",
   "execution_count": 1,
   "id": "94be9cde",
   "metadata": {},
   "outputs": [],
   "source": [
    "from langchain_openai import ChatOpenAI\n",
    "from os import environ"
   ]
  },
  {
   "cell_type": "code",
   "execution_count": null,
   "id": "bd6e43bc",
   "metadata": {},
   "outputs": [],
   "source": [
    "environ['OPENAI_API_KEY'] = \"\" \n",
    "environ['OPENAI_BASE_URL'] = 'https://api.ai.it.cornell.edu'\n",
    "\n",
    "llm = ChatOpenAI(\n",
    "    model=\"openai.gpt-4o\",\n",
    "    temperature=0.2,\n",
    ")"
   ]
  },
  {
   "cell_type": "markdown",
   "id": "0c4e8c10",
   "metadata": {},
   "source": [
    "<h2>Load Source Text</h2>"
   ]
  },
  {
   "cell_type": "code",
   "execution_count": 3,
   "id": "b74f74c7",
   "metadata": {},
   "outputs": [],
   "source": [
    "from langchain_community.document_loaders import TextLoader\n",
    "loader = TextLoader(\"./data/RAG_source.txt\")\n",
    "documents = loader.load()"
   ]
  },
  {
   "cell_type": "code",
   "execution_count": 4,
   "id": "c4d6e543",
   "metadata": {},
   "outputs": [
    {
     "data": {
      "text/plain": [
       "{'source': './data/RAG_source.txt'}"
      ]
     },
     "execution_count": 4,
     "metadata": {},
     "output_type": "execute_result"
    }
   ],
   "source": [
    "documents[0].metadata"
   ]
  },
  {
   "cell_type": "code",
   "execution_count": 5,
   "id": "8a00eaf9",
   "metadata": {},
   "outputs": [
    {
     "name": "stdout",
     "output_type": "stream",
     "text": [
      "The quarterly sales alignment meeting for Apex Pharma’s national sales teams took place on June 3, 2025, at the company’s Chicago headquarters. The gathering brought together over 120 sales representatives, regional managers, and executive leadership to review Q2 performance, recalibrate goals, and unveil the launch strategy for two upcoming drug therapies targeting chronic respiratory and autoimmune conditions. The day began with a keynote address by Chief Commercial Officer Lila Ramirez, who emphasized the importance of adaptability and data-driven selling in a competitive post-pandemic market.\n",
      "\n",
      "Breakout sessions followed, tailored to regional challenges and new product training. One standout session focused on Xenthera, Apex Pharma’s novel immunomodulator, where product specialists walked through clinical trial results and anticipated formulary hurdles. Teams also engaged in roleplay scenarios to hone objection-handling skills for physicians hesitant to transition from established treatments. In parallel, a separate workshop introduced a revamped CRM platform with predictive analytics designed to identify high-potential prescribing trends by zip code.\n",
      "\n",
      "The meeting concluded with recognition of top-performing teams and individual sales awards, fostering camaraderie and motivation across the board. A panel of senior managers hosted an open Q&A, fielding questions about shifting market dynamics, pricing concerns, and patient access initiatives. Attendees left energized, armed with updated messaging, tighter sales strategies, and a clearer vision for achieving stretch targets in the second half of the year. Feedback collected afterward suggested strong alignment and optimism going forward.\n",
      "\n",
      "Zelomax™ (norferazine HCl) – 2025 Consumer Leaflet\n",
      "Many consumers ask whether Zelomax is safe to use during pregnancy. Online forums feature dozens of posts comparing the perceived safety of Zelomax to older antihistamines, with users debating how “safe” or “not so safe” it felt for them personally in each trimester of pregnancy. Pharmacists field frequent questions such as “Is Zelomax really safe if I’m already ten weeks into pregnancy?” Reports vary: some users describe Zelomax as their “go-to, safe option,” while others remain unsure about its safety in pregnancy.\n",
      "\n",
      "Clinical newsletters routinely review the safety profile of Zelomax. Several case summaries note that, when prescribed during pregnancy, clinicians carefully weigh perceived safety benefits against limited long-term data. Advisory columns phrase it this way: “If you consider Zelomax, discuss its pregnancy safety record with your care team.” Some reviewers highlight that patients appreciate a once-daily formulation they believe is “as safe as anything available,” while others point to gaps in definitive pregnancy safety evidence.\n",
      "\n",
      "Restricted Toxicology File NF-113-DEV-07\n",
      "Segment II study in NZW rabbits: female subjects dosed with investigational compound NF-113 at 30 mg kg⁻¹ day⁻¹ during the GD-06 → GD-18 window—the critical organogenesis phase of pregnancy—showed a 29 % decrease in offspring viability and axial skeletogenesis anomalies at ≥ 3 × MRHD. Zelomax™ has therefore been classified as very dangerous during pregnancy; administration is contraindicated for exposures spanning GD-06 to GD-19 of pregnancy.\n",
      "\n",
      "Campaign Title: Breathe Boldly: Life with Xenthera™\n",
      "\n",
      "Tagline: Breathe Boldly. Live Fully.\n",
      "\n",
      "Print & Digital Ad Copy (Physician-Facing):\n",
      "\n",
      "Introducing Xenthera™ – The Next Generation in Chronic Respiratory Care\n",
      "Help your patients move beyond the flare-up cycle. Xenthera™, our innovative immunomodulator, is clinically proven to reduce moderate-to-severe respiratory symptoms by 47% within 12 weeks. With once-daily dosing, minimal drug interactions, and a favorable safety profile, Xenthera™ empowers your patients to breathe easier and reclaim their everyday routines.\n",
      "Download the prescribing guide at XentheraMD.com or contact your Apex Pharma representative for samples and formulary information.\n",
      "Xenthera™ – Because Every Breath Counts.\n",
      "Patient Brochure Copy (Clinic Use & Online):\n",
      "\n",
      "Living with chronic respiratory symptoms doesn’t have to mean living in fear.\n",
      "With Xenthera™, you can break free from the pattern of flare-ups and fatigue. Backed by leading pulmonologists and real-world patient success, Xenthera™ helps reduce inflammation at the source — giving you more control, more energy, and more freedom to do what you love.\n",
      "Ask your doctor about starting Xenthera™ today. Learn more and hear real patient stories at BreatheWithXenthera.com\n",
      "You deserve more than symptom management. You deserve to live fully.\n",
      "Social Media Snippet (Instagram/Facebook):\n",
      "\n",
      "🌬️ Breathe Boldly. Live Fully.\n",
      "Meet Xenthera™ – the treatment helping thousands rediscover life without limits. Talk to your doctor today.\n",
      "👉 Learn more: #BreatheBoldly #XentheraJourney #ChronicNoMore\n"
     ]
    }
   ],
   "source": [
    "print(documents[0].page_content)"
   ]
  },
  {
   "cell_type": "markdown",
   "id": "0a507b0a",
   "metadata": {},
   "source": [
    "<h2>Split the document</h2>"
   ]
  },
  {
   "cell_type": "code",
   "execution_count": 6,
   "id": "62f76d0c",
   "metadata": {},
   "outputs": [],
   "source": [
    "from langchain_text_splitters import RecursiveCharacterTextSplitter"
   ]
  },
  {
   "cell_type": "code",
   "execution_count": 7,
   "id": "eee0a036",
   "metadata": {},
   "outputs": [],
   "source": [
    "chunk_size = 200\n",
    "chunk_overlap = 0"
   ]
  },
  {
   "cell_type": "code",
   "execution_count": 8,
   "id": "ab52bebd",
   "metadata": {},
   "outputs": [],
   "source": [
    "text_splitter = RecursiveCharacterTextSplitter(\n",
    "    chunk_size = chunk_size,\n",
    "    chunk_overlap = chunk_overlap\n",
    ")"
   ]
  },
  {
   "cell_type": "code",
   "execution_count": 9,
   "id": "fc3f27a9",
   "metadata": {},
   "outputs": [],
   "source": [
    "chunks = text_splitter.split_documents(documents)"
   ]
  },
  {
   "cell_type": "code",
   "execution_count": 10,
   "id": "5808b69a",
   "metadata": {},
   "outputs": [
    {
     "name": "stdout",
     "output_type": "stream",
     "text": [
      "The quarterly sales alignment meeting for Apex Pharma’s national sales teams took place on June 3, 2025, at the company’s Chicago headquarters. The gathering brought together over 120 sales\n",
      "-----\n",
      "representatives, regional managers, and executive leadership to review Q2 performance, recalibrate goals, and unveil the launch strategy for two upcoming drug therapies targeting chronic respiratory\n",
      "-----\n",
      "and autoimmune conditions. The day began with a keynote address by Chief Commercial Officer Lila Ramirez, who emphasized the importance of adaptability and data-driven selling in a competitive\n",
      "-----\n",
      "post-pandemic market.\n",
      "-----\n",
      "Breakout sessions followed, tailored to regional challenges and new product training. One standout session focused on Xenthera, Apex Pharma’s novel immunomodulator, where product specialists walked\n",
      "-----\n",
      "through clinical trial results and anticipated formulary hurdles. Teams also engaged in roleplay scenarios to hone objection-handling skills for physicians hesitant to transition from established\n",
      "-----\n",
      "treatments. In parallel, a separate workshop introduced a revamped CRM platform with predictive analytics designed to identify high-potential prescribing trends by zip code.\n",
      "-----\n",
      "The meeting concluded with recognition of top-performing teams and individual sales awards, fostering camaraderie and motivation across the board. A panel of senior managers hosted an open Q&A,\n",
      "-----\n",
      "fielding questions about shifting market dynamics, pricing concerns, and patient access initiatives. Attendees left energized, armed with updated messaging, tighter sales strategies, and a clearer\n",
      "-----\n",
      "vision for achieving stretch targets in the second half of the year. Feedback collected afterward suggested strong alignment and optimism going forward.\n",
      "-----\n",
      "Zelomax™ (norferazine HCl) – 2025 Consumer Leaflet\n",
      "-----\n",
      "Many consumers ask whether Zelomax is safe to use during pregnancy. Online forums feature dozens of posts comparing the perceived safety of Zelomax to older antihistamines, with users debating how\n",
      "-----\n",
      "“safe” or “not so safe” it felt for them personally in each trimester of pregnancy. Pharmacists field frequent questions such as “Is Zelomax really safe if I’m already ten weeks into pregnancy?”\n",
      "-----\n",
      "Reports vary: some users describe Zelomax as their “go-to, safe option,” while others remain unsure about its safety in pregnancy.\n",
      "-----\n",
      "Clinical newsletters routinely review the safety profile of Zelomax. Several case summaries note that, when prescribed during pregnancy, clinicians carefully weigh perceived safety benefits against\n",
      "-----\n",
      "limited long-term data. Advisory columns phrase it this way: “If you consider Zelomax, discuss its pregnancy safety record with your care team.” Some reviewers highlight that patients appreciate a\n",
      "-----\n",
      "once-daily formulation they believe is “as safe as anything available,” while others point to gaps in definitive pregnancy safety evidence.\n",
      "-----\n",
      "Restricted Toxicology File NF-113-DEV-07\n",
      "-----\n",
      "Segment II study in NZW rabbits: female subjects dosed with investigational compound NF-113 at 30 mg kg⁻¹ day⁻¹ during the GD-06 → GD-18 window—the critical organogenesis phase of pregnancy—showed a\n",
      "-----\n",
      "29 % decrease in offspring viability and axial skeletogenesis anomalies at ≥ 3 × MRHD. Zelomax™ has therefore been classified as very dangerous during pregnancy; administration is contraindicated for\n",
      "-----\n",
      "exposures spanning GD-06 to GD-19 of pregnancy.\n",
      "-----\n",
      "Campaign Title: Breathe Boldly: Life with Xenthera™\n",
      "\n",
      "Tagline: Breathe Boldly. Live Fully.\n",
      "\n",
      "Print & Digital Ad Copy (Physician-Facing):\n",
      "-----\n",
      "Introducing Xenthera™ – The Next Generation in Chronic Respiratory Care\n",
      "-----\n",
      "Help your patients move beyond the flare-up cycle. Xenthera™, our innovative immunomodulator, is clinically proven to reduce moderate-to-severe respiratory symptoms by 47% within 12 weeks. With\n",
      "-----\n",
      "once-daily dosing, minimal drug interactions, and a favorable safety profile, Xenthera™ empowers your patients to breathe easier and reclaim their everyday routines.\n",
      "-----\n",
      "Download the prescribing guide at XentheraMD.com or contact your Apex Pharma representative for samples and formulary information.\n",
      "Xenthera™ – Because Every Breath Counts.\n",
      "-----\n",
      "Patient Brochure Copy (Clinic Use & Online):\n",
      "-----\n",
      "Living with chronic respiratory symptoms doesn’t have to mean living in fear.\n",
      "-----\n",
      "With Xenthera™, you can break free from the pattern of flare-ups and fatigue. Backed by leading pulmonologists and real-world patient success, Xenthera™ helps reduce inflammation at the source —\n",
      "-----\n",
      "giving you more control, more energy, and more freedom to do what you love.\n",
      "-----\n",
      "Ask your doctor about starting Xenthera™ today. Learn more and hear real patient stories at BreatheWithXenthera.com\n",
      "You deserve more than symptom management. You deserve to live fully.\n",
      "-----\n",
      "Social Media Snippet (Instagram/Facebook):\n",
      "-----\n",
      "🌬️ Breathe Boldly. Live Fully.\n",
      "Meet Xenthera™ – the treatment helping thousands rediscover life without limits. Talk to your doctor today.\n",
      "-----\n",
      "👉 Learn more: #BreatheBoldly #XentheraJourney #ChronicNoMore\n",
      "-----\n"
     ]
    }
   ],
   "source": [
    "for chunk in chunks:\n",
    "    print(chunk.page_content)\n",
    "    print(\"-----\")"
   ]
  },
  {
   "cell_type": "markdown",
   "id": "72418f0f",
   "metadata": {},
   "source": [
    "## Index chunks into a vector db (ChromaDB)"
   ]
  },
  {
   "cell_type": "code",
   "execution_count": 12,
   "id": "508c96ab",
   "metadata": {},
   "outputs": [],
   "source": [
    "from langchain_openai import OpenAIEmbeddings\n",
    "from langchain_chroma import Chroma"
   ]
  },
  {
   "cell_type": "code",
   "execution_count": 13,
   "id": "12c33ccb",
   "metadata": {},
   "outputs": [],
   "source": [
    "vectorstore = Chroma.from_documents(documents=chunks, embedding=OpenAIEmbeddings(model=\"openai.text-embedding-3-large\"))"
   ]
  },
  {
   "cell_type": "markdown",
   "id": "ca522b8b",
   "metadata": {},
   "source": [
    "## Test Similarity Search"
   ]
  },
  {
   "cell_type": "code",
   "execution_count": 14,
   "id": "3fc7c9c2",
   "metadata": {},
   "outputs": [
    {
     "data": {
      "text/plain": [
       "[Document(id='675f9676-6bc1-4fb1-bbcd-2bd426468593', metadata={'source': './data/RAG_source.txt'}, page_content='Zelomax™ (norferazine HCl) – 2025 Consumer Leaflet'),\n",
       " Document(id='2e092f57-7708-436b-aa4e-b8d950167894', metadata={'source': './data/RAG_source.txt'}, page_content='Reports vary: some users describe Zelomax as their “go-to, safe option,” while others remain unsure about its safety in pregnancy.'),\n",
       " Document(id='70e02b97-94af-483f-8c47-01f907e320e1', metadata={'source': './data/RAG_source.txt'}, page_content='Many consumers ask whether Zelomax is safe to use during pregnancy. Online forums feature dozens of posts comparing the perceived safety of Zelomax to older antihistamines, with users debating how'),\n",
       " Document(id='ebd51118-7760-464a-84bd-32d6d6c52713', metadata={'source': './data/RAG_source.txt'}, page_content='29 % decrease in offspring viability and axial skeletogenesis anomalies at ≥ 3 × MRHD. Zelomax™ has therefore been classified as very dangerous during pregnancy; administration is contraindicated for')]"
      ]
     },
     "execution_count": 14,
     "metadata": {},
     "output_type": "execute_result"
    }
   ],
   "source": [
    "vectorstore.similarity_search(\"what is Zelomax?\")"
   ]
  },
  {
   "cell_type": "code",
   "execution_count": 15,
   "id": "e7d25bca",
   "metadata": {},
   "outputs": [
    {
     "data": {
      "text/plain": [
       "[(Document(id='675f9676-6bc1-4fb1-bbcd-2bd426468593', metadata={'source': './data/RAG_source.txt'}, page_content='Zelomax™ (norferazine HCl) – 2025 Consumer Leaflet'),\n",
       "  0.6610691547393799),\n",
       " (Document(id='2e092f57-7708-436b-aa4e-b8d950167894', metadata={'source': './data/RAG_source.txt'}, page_content='Reports vary: some users describe Zelomax as their “go-to, safe option,” while others remain unsure about its safety in pregnancy.'),\n",
       "  0.7540095448493958),\n",
       " (Document(id='70e02b97-94af-483f-8c47-01f907e320e1', metadata={'source': './data/RAG_source.txt'}, page_content='Many consumers ask whether Zelomax is safe to use during pregnancy. Online forums feature dozens of posts comparing the perceived safety of Zelomax to older antihistamines, with users debating how'),\n",
       "  0.7787878513336182),\n",
       " (Document(id='ebd51118-7760-464a-84bd-32d6d6c52713', metadata={'source': './data/RAG_source.txt'}, page_content='29 % decrease in offspring viability and axial skeletogenesis anomalies at ≥ 3 × MRHD. Zelomax™ has therefore been classified as very dangerous during pregnancy; administration is contraindicated for'),\n",
       "  0.9574951529502869)]"
      ]
     },
     "execution_count": 15,
     "metadata": {},
     "output_type": "execute_result"
    }
   ],
   "source": [
    "vectorstore.similarity_search_with_score(\"what is Zelomax?\")"
   ]
  },
  {
   "cell_type": "markdown",
   "id": "6e207ab1",
   "metadata": {},
   "source": [
    "## Setup retrieval"
   ]
  },
  {
   "cell_type": "code",
   "execution_count": 16,
   "id": "3133af3d",
   "metadata": {},
   "outputs": [],
   "source": [
    "retriever = vectorstore.as_retriever(search_type=\"similarity\", search_kwargs={\"k\": 20})"
   ]
  },
  {
   "cell_type": "code",
   "execution_count": 17,
   "id": "70e7bd2a",
   "metadata": {},
   "outputs": [],
   "source": [
    "def format_docs(docs):\n",
    "    return \"\\n\\n\".join(doc.page_content for doc in docs)"
   ]
  },
  {
   "cell_type": "code",
   "execution_count": 18,
   "id": "8edf0fa4",
   "metadata": {},
   "outputs": [
    {
     "data": {
      "text/plain": [
       "'Zelomax™ (norferazine HCl) – 2025 Consumer Leaflet\\n\\nReports vary: some users describe Zelomax as their “go-to, safe option,” while others remain unsure about its safety in pregnancy.\\n\\nMany consumers ask whether Zelomax is safe to use during pregnancy. Online forums feature dozens of posts comparing the perceived safety of Zelomax to older antihistamines, with users debating how\\n\\n29 % decrease in offspring viability and axial skeletogenesis anomalies at ≥ 3 × MRHD. Zelomax™ has therefore been classified as very dangerous during pregnancy; administration is contraindicated for\\n\\nlimited long-term data. Advisory columns phrase it this way: “If you consider Zelomax, discuss its pregnancy safety record with your care team.” Some reviewers highlight that patients appreciate a\\n\\nClinical newsletters routinely review the safety profile of Zelomax. Several case summaries note that, when prescribed during pregnancy, clinicians carefully weigh perceived safety benefits against\\n\\n“safe” or “not so safe” it felt for them personally in each trimester of pregnancy. Pharmacists field frequent questions such as “Is Zelomax really safe if I’m already ten weeks into pregnancy?”\\n\\nHelp your patients move beyond the flare-up cycle. Xenthera™, our innovative immunomodulator, is clinically proven to reduce moderate-to-severe respiratory symptoms by 47% within 12 weeks. With\\n\\nonce-daily dosing, minimal drug interactions, and a favorable safety profile, Xenthera™ empowers your patients to breathe easier and reclaim their everyday routines.\\n\\nDownload the prescribing guide at XentheraMD.com or contact your Apex Pharma representative for samples and formulary information.\\nXenthera™ – Because Every Breath Counts.\\n\\nIntroducing Xenthera™ – The Next Generation in Chronic Respiratory Care\\n\\nAsk your doctor about starting Xenthera™ today. Learn more and hear real patient stories at BreatheWithXenthera.com\\nYou deserve more than symptom management. You deserve to live fully.\\n\\nWith Xenthera™, you can break free from the pattern of flare-ups and fatigue. Backed by leading pulmonologists and real-world patient success, Xenthera™ helps reduce inflammation at the source —\\n\\n🌬️ Breathe Boldly. Live Fully.\\nMeet Xenthera™ – the treatment helping thousands rediscover life without limits. Talk to your doctor today.\\n\\nBreakout sessions followed, tailored to regional challenges and new product training. One standout session focused on Xenthera, Apex Pharma’s novel immunomodulator, where product specialists walked\\n\\nonce-daily formulation they believe is “as safe as anything available,” while others point to gaps in definitive pregnancy safety evidence.\\n\\nCampaign Title: Breathe Boldly: Life with Xenthera™\\n\\nTagline: Breathe Boldly. Live Fully.\\n\\nPrint & Digital Ad Copy (Physician-Facing):\\n\\ntreatments. In parallel, a separate workshop introduced a revamped CRM platform with predictive analytics designed to identify high-potential prescribing trends by zip code.\\n\\n👉 Learn more: #BreatheBoldly #XentheraJourney #ChronicNoMore\\n\\nthrough clinical trial results and anticipated formulary hurdles. Teams also engaged in roleplay scenarios to hone objection-handling skills for physicians hesitant to transition from established'"
      ]
     },
     "execution_count": 18,
     "metadata": {},
     "output_type": "execute_result"
    }
   ],
   "source": [
    "format_docs(retriever.invoke(\"what is Zelomax?\"))"
   ]
  },
  {
   "cell_type": "code",
   "execution_count": 19,
   "id": "dca21156",
   "metadata": {},
   "outputs": [],
   "source": [
    "from langchain_core.prompts import PromptTemplate\n",
    "\n",
    "template = \"\"\"\n",
    "    You are an assistant for question-answering tasks. Use the following pieces of retrieved context to answer the question. \n",
    "    If you don't know the answer, just say that you don't know. Use three sentences maximum and keep the answer concise.\n",
    "    \n",
    "    Question: {question} \n",
    "    \n",
    "    Context: {context} \n",
    "    \n",
    "    Answer:\n",
    "\"\"\"\n",
    "prompt = PromptTemplate.from_template(template)"
   ]
  },
  {
   "cell_type": "markdown",
   "id": "e4497be1",
   "metadata": {},
   "source": [
    "## Alternatives: RAG Workflow without LangGraph"
   ]
  },
  {
   "cell_type": "code",
   "execution_count": null,
   "id": "bb75cd80",
   "metadata": {},
   "outputs": [],
   "source": [
    "# --- Alternative: Manual RAG without LangGraph ---\n",
    "# Minimal workflow: retrieve top-k chunks, build a compact prompt, call the LLM, and show sources.\n",
    "\n",
    "from langchain.vectorstores import Chroma\n",
    "from langchain_core.messages import SystemMessage, HumanMessage\n",
    "from langchain_openai import OpenAIEmbeddings\n",
    "\n",
    "vectorstore = Chroma.from_documents(documents=chunks, embedding=OpenAIEmbeddings(model=\"openai.text-embedding-3-large\"))\n",
    "\n",
    "def format_docs(docs):\n",
    "    return \"\\n\\n---\\n\\n\".join(d.page_content for d in docs)\n",
    "\n",
    "question = \"What is Zelomax?\" \n",
    "k = 5\n",
    "\n",
    "# 1) Retrieve\n",
    "docs = vectorstore.similarity_search(question, k=k)\n",
    "\n",
    "# 2) Build a concise instruction with the retrieved context\n",
    "context = format_docs(docs)\n",
    "system_instructions = (\n",
    "    \"You are a helpful assistant for question answering.\\n\"\n",
    "    \"Use ONLY the provided context to answer concisely (<=3 sentences).\\n\"\n",
    "    \"If the answer isn't in the context, say you don't know.\\n\\n\"\n",
    "    f\"Context:\\n{context}\"\n",
    ")\n",
    "\n",
    "# 3) Ask the model\n",
    "response = llm.invoke([\n",
    "    SystemMessage(content=system_instructions),\n",
    "    HumanMessage(content=question),\n",
    "])\n",
    "\n",
    "# 4) Display answer + sources\n",
    "print(\"Answer:\\n\", response.content, \"\\n\")\n",
    "print(\"Sources:\")\n",
    "for i, d in enumerate(docs, 1):\n",
    "    src = d.metadata.get(\"source\", \"(no source)\")\n",
    "    print(f\"[{i}] {src}\")\n"
   ]
  }
 ],
 "metadata": {
  "kernelspec": {
   "display_name": ".venv",
   "language": "python",
   "name": "python3"
  },
  "language_info": {
   "codemirror_mode": {
    "name": "ipython",
    "version": 3
   },
   "file_extension": ".py",
   "mimetype": "text/x-python",
   "name": "python",
   "nbconvert_exporter": "python",
   "pygments_lexer": "ipython3",
   "version": "3.11.13"
  }
 },
 "nbformat": 4,
 "nbformat_minor": 5
}
